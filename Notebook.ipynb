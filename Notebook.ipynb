{
  "cells": [
    {
      "cell_type": "code",
      "execution_count": null,
      "metadata": {
        "id": "fa9b688f"
      },
      "outputs": [],
      "source": [
        "import pandas as pd\n",
        "import numpy as np\n",
        "import seaborn as sns\n",
        "import matplotlib.pyplot as plt\n",
        "%matplotlib inline\n",
        "from sklearn.cluster import KMeans\n",
        "from sklearn.metrics import silhouette_score, silhouette_samples\n",
        "from sklearn import metrics\n",
        "from numpy import unique\n",
        "from sklearn.preprocessing import LabelEncoder\n",
        "import matplotlib as mpl\n",
        "import matplotlib.cm as cm\n",
        "import warnings\n",
        "\n",
        "warnings.filterwarnings(\"ignore\")"
      ],
      "id": "fa9b688f"
    },
    {
      "cell_type": "code",
      "execution_count": null,
      "metadata": {
        "colab": {
          "base_uri": "https://localhost:8080/"
        },
        "id": "19d41559",
        "outputId": "dab3fd9f-b925-42fb-c95a-be4bd09e3f65"
      },
      "outputs": [
        {
          "output_type": "stream",
          "name": "stdout",
          "text": [
            "Number of datapoints: 135\n"
          ]
        }
      ],
      "source": [
        "data = pd.read_csv(\"/content/dataset-new (2).csv\")\n",
        "\n",
        "print(\"Number of datapoints:\", len(data))"
      ],
      "id": "19d41559"
    },
    {
      "cell_type": "markdown",
      "metadata": {
        "id": "fb2goGOIX7it"
      },
      "source": [
        "# Section 1: Data Preprocessing\n"
      ],
      "id": "fb2goGOIX7it"
    },
    {
      "cell_type": "code",
      "execution_count": null,
      "metadata": {
        "colab": {
          "base_uri": "https://localhost:8080/"
        },
        "id": "ccdfb0b5",
        "outputId": "118386e2-e895-4082-ee09-0112b11ff93c"
      },
      "outputs": [
        {
          "output_type": "stream",
          "name": "stdout",
          "text": [
            "<class 'pandas.core.frame.DataFrame'>\n",
            "RangeIndex: 135 entries, 0 to 134\n",
            "Data columns (total 18 columns):\n",
            " #   Column                                     Non-Null Count  Dtype \n",
            "---  ------                                     --------------  ----- \n",
            " 0   Unnamed: 0                                 135 non-null    int64 \n",
            " 1   Age                                        135 non-null    object\n",
            " 2   Gender                                     135 non-null    object\n",
            " 3   Occupation                                 135 non-null    object\n",
            " 4   Location                                   135 non-null    object\n",
            " 5   Shopping Frequency                         135 non-null    object\n",
            " 6   Shopping Methods                           135 non-null    object\n",
            " 7   Online, instore preferences                135 non-null    object\n",
            " 8   Influence Factors                          135 non-null    object\n",
            " 9   Types of Clothing                          135 non-null    object\n",
            " 10  Brand Preference                           135 non-null    object\n",
            " 11  Brand Choice Factors                       135 non-null    object\n",
            " 12  Likeliness of Promotion or Discount        135 non-null    object\n",
            " 13  Prefered Types of Promotions or Discounts  135 non-null    object\n",
            " 14  Communication Method                       135 non-null    object\n",
            " 15  Average Spent                              135 non-null    object\n",
            " 16  Payment Methods                            135 non-null    object\n",
            " 17  Comments                                   42 non-null     object\n",
            "dtypes: int64(1), object(17)\n",
            "memory usage: 19.1+ KB\n"
          ]
        }
      ],
      "source": [
        "data.info()"
      ],
      "id": "ccdfb0b5"
    },
    {
      "cell_type": "code",
      "execution_count": null,
      "metadata": {
        "colab": {
          "base_uri": "https://localhost:8080/"
        },
        "id": "6554dd52",
        "outputId": "f36a7043-18a1-4621-8c80-2e2012d06d0e"
      },
      "outputs": [
        {
          "output_type": "stream",
          "name": "stdout",
          "text": [
            "Unnamed: 0                                    0\n",
            "Age                                           0\n",
            "Gender                                        0\n",
            "Occupation                                    0\n",
            "Location                                      0\n",
            "Shopping Frequency                            0\n",
            "Shopping Methods                              0\n",
            "Online, instore preferences                   0\n",
            "Influence Factors                             0\n",
            "Types of Clothing                             0\n",
            "Brand Preference                              0\n",
            "Brand Choice Factors                          0\n",
            "Likeliness of Promotion or Discount           0\n",
            "Prefered Types of Promotions or Discounts     0\n",
            "Communication Method                          0\n",
            "Average Spent                                 0\n",
            "Payment Methods                               0\n",
            "Comments                                     93\n",
            "dtype: int64\n"
          ]
        }
      ],
      "source": [
        "missing_values = data.isnull().sum()\n",
        "print(missing_values)"
      ],
      "id": "6554dd52"
    },
    {
      "cell_type": "code",
      "execution_count": null,
      "metadata": {
        "colab": {
          "base_uri": "https://localhost:8080/"
        },
        "id": "4d444e94",
        "outputId": "b6b7385c-392f-46aa-fadf-872c3f4ccc74"
      },
      "outputs": [
        {
          "output_type": "stream",
          "name": "stdout",
          "text": [
            "Non-numeric columns: Index(['Age', 'Gender', 'Occupation', 'Location', 'Shopping Frequency',\n",
            "       'Shopping Methods', 'Online, instore preferences', 'Influence Factors',\n",
            "       'Types of Clothing', 'Brand Preference', 'Brand Choice Factors',\n",
            "       'Likeliness of Promotion or Discount',\n",
            "       'Prefered Types of Promotions or Discounts', 'Communication Method',\n",
            "       'Average Spent', 'Payment Methods', 'Comments'],\n",
            "      dtype='object')\n"
          ]
        }
      ],
      "source": [
        "# check for non numeric values\n",
        "\n",
        "non_numeric_columns =data.select_dtypes(exclude=['int64', 'float64']).columns\n",
        "print(\"Non-numeric columns:\", non_numeric_columns)"
      ],
      "id": "4d444e94"
    },
    {
      "cell_type": "code",
      "execution_count": null,
      "metadata": {
        "id": "11e70375",
        "colab": {
          "base_uri": "https://localhost:8080/",
          "height": 338
        },
        "outputId": "95a01c22-405f-408f-861c-72c84abcc936"
      },
      "outputs": [
        {
          "output_type": "error",
          "ename": "KeyError",
          "evalue": "\"['Timestamp'] not found in axis\"",
          "traceback": [
            "\u001b[0;31m---------------------------------------------------------------------------\u001b[0m",
            "\u001b[0;31mKeyError\u001b[0m                                  Traceback (most recent call last)",
            "\u001b[0;32m<ipython-input-16-bffee0c8f926>\u001b[0m in \u001b[0;36m<cell line: 2>\u001b[0;34m()\u001b[0m\n\u001b[1;32m      1\u001b[0m \u001b[0;31m# drop timestamp\u001b[0m\u001b[0;34m\u001b[0m\u001b[0;34m\u001b[0m\u001b[0m\n\u001b[0;32m----> 2\u001b[0;31m \u001b[0mdata\u001b[0m\u001b[0;34m=\u001b[0m\u001b[0mdata\u001b[0m\u001b[0;34m.\u001b[0m\u001b[0mdrop\u001b[0m\u001b[0;34m(\u001b[0m\u001b[0;34m[\u001b[0m\u001b[0;34m'Timestamp'\u001b[0m\u001b[0;34m]\u001b[0m\u001b[0;34m,\u001b[0m\u001b[0maxis\u001b[0m\u001b[0;34m=\u001b[0m\u001b[0;36m1\u001b[0m\u001b[0;34m)\u001b[0m\u001b[0;34m\u001b[0m\u001b[0;34m\u001b[0m\u001b[0m\n\u001b[0m",
            "\u001b[0;32m/usr/local/lib/python3.10/dist-packages/pandas/util/_decorators.py\u001b[0m in \u001b[0;36mwrapper\u001b[0;34m(*args, **kwargs)\u001b[0m\n\u001b[1;32m    329\u001b[0m                     \u001b[0mstacklevel\u001b[0m\u001b[0;34m=\u001b[0m\u001b[0mfind_stack_level\u001b[0m\u001b[0;34m(\u001b[0m\u001b[0;34m)\u001b[0m\u001b[0;34m,\u001b[0m\u001b[0;34m\u001b[0m\u001b[0;34m\u001b[0m\u001b[0m\n\u001b[1;32m    330\u001b[0m                 )\n\u001b[0;32m--> 331\u001b[0;31m             \u001b[0;32mreturn\u001b[0m \u001b[0mfunc\u001b[0m\u001b[0;34m(\u001b[0m\u001b[0;34m*\u001b[0m\u001b[0margs\u001b[0m\u001b[0;34m,\u001b[0m \u001b[0;34m**\u001b[0m\u001b[0mkwargs\u001b[0m\u001b[0;34m)\u001b[0m\u001b[0;34m\u001b[0m\u001b[0;34m\u001b[0m\u001b[0m\n\u001b[0m\u001b[1;32m    332\u001b[0m \u001b[0;34m\u001b[0m\u001b[0m\n\u001b[1;32m    333\u001b[0m         \u001b[0;31m# error: \"Callable[[VarArg(Any), KwArg(Any)], Any]\" has no\u001b[0m\u001b[0;34m\u001b[0m\u001b[0;34m\u001b[0m\u001b[0m\n",
            "\u001b[0;32m/usr/local/lib/python3.10/dist-packages/pandas/core/frame.py\u001b[0m in \u001b[0;36mdrop\u001b[0;34m(self, labels, axis, index, columns, level, inplace, errors)\u001b[0m\n\u001b[1;32m   5397\u001b[0m                 \u001b[0mweight\u001b[0m  \u001b[0;36m1.0\u001b[0m     \u001b[0;36m0.8\u001b[0m\u001b[0;34m\u001b[0m\u001b[0;34m\u001b[0m\u001b[0m\n\u001b[1;32m   5398\u001b[0m         \"\"\"\n\u001b[0;32m-> 5399\u001b[0;31m         return super().drop(\n\u001b[0m\u001b[1;32m   5400\u001b[0m             \u001b[0mlabels\u001b[0m\u001b[0;34m=\u001b[0m\u001b[0mlabels\u001b[0m\u001b[0;34m,\u001b[0m\u001b[0;34m\u001b[0m\u001b[0;34m\u001b[0m\u001b[0m\n\u001b[1;32m   5401\u001b[0m             \u001b[0maxis\u001b[0m\u001b[0;34m=\u001b[0m\u001b[0maxis\u001b[0m\u001b[0;34m,\u001b[0m\u001b[0;34m\u001b[0m\u001b[0;34m\u001b[0m\u001b[0m\n",
            "\u001b[0;32m/usr/local/lib/python3.10/dist-packages/pandas/util/_decorators.py\u001b[0m in \u001b[0;36mwrapper\u001b[0;34m(*args, **kwargs)\u001b[0m\n\u001b[1;32m    329\u001b[0m                     \u001b[0mstacklevel\u001b[0m\u001b[0;34m=\u001b[0m\u001b[0mfind_stack_level\u001b[0m\u001b[0;34m(\u001b[0m\u001b[0;34m)\u001b[0m\u001b[0;34m,\u001b[0m\u001b[0;34m\u001b[0m\u001b[0;34m\u001b[0m\u001b[0m\n\u001b[1;32m    330\u001b[0m                 )\n\u001b[0;32m--> 331\u001b[0;31m             \u001b[0;32mreturn\u001b[0m \u001b[0mfunc\u001b[0m\u001b[0;34m(\u001b[0m\u001b[0;34m*\u001b[0m\u001b[0margs\u001b[0m\u001b[0;34m,\u001b[0m \u001b[0;34m**\u001b[0m\u001b[0mkwargs\u001b[0m\u001b[0;34m)\u001b[0m\u001b[0;34m\u001b[0m\u001b[0;34m\u001b[0m\u001b[0m\n\u001b[0m\u001b[1;32m    332\u001b[0m \u001b[0;34m\u001b[0m\u001b[0m\n\u001b[1;32m    333\u001b[0m         \u001b[0;31m# error: \"Callable[[VarArg(Any), KwArg(Any)], Any]\" has no\u001b[0m\u001b[0;34m\u001b[0m\u001b[0;34m\u001b[0m\u001b[0m\n",
            "\u001b[0;32m/usr/local/lib/python3.10/dist-packages/pandas/core/generic.py\u001b[0m in \u001b[0;36mdrop\u001b[0;34m(self, labels, axis, index, columns, level, inplace, errors)\u001b[0m\n\u001b[1;32m   4503\u001b[0m         \u001b[0;32mfor\u001b[0m \u001b[0maxis\u001b[0m\u001b[0;34m,\u001b[0m \u001b[0mlabels\u001b[0m \u001b[0;32min\u001b[0m \u001b[0maxes\u001b[0m\u001b[0;34m.\u001b[0m\u001b[0mitems\u001b[0m\u001b[0;34m(\u001b[0m\u001b[0;34m)\u001b[0m\u001b[0;34m:\u001b[0m\u001b[0;34m\u001b[0m\u001b[0;34m\u001b[0m\u001b[0m\n\u001b[1;32m   4504\u001b[0m             \u001b[0;32mif\u001b[0m \u001b[0mlabels\u001b[0m \u001b[0;32mis\u001b[0m \u001b[0;32mnot\u001b[0m \u001b[0;32mNone\u001b[0m\u001b[0;34m:\u001b[0m\u001b[0;34m\u001b[0m\u001b[0;34m\u001b[0m\u001b[0m\n\u001b[0;32m-> 4505\u001b[0;31m                 \u001b[0mobj\u001b[0m \u001b[0;34m=\u001b[0m \u001b[0mobj\u001b[0m\u001b[0;34m.\u001b[0m\u001b[0m_drop_axis\u001b[0m\u001b[0;34m(\u001b[0m\u001b[0mlabels\u001b[0m\u001b[0;34m,\u001b[0m \u001b[0maxis\u001b[0m\u001b[0;34m,\u001b[0m \u001b[0mlevel\u001b[0m\u001b[0;34m=\u001b[0m\u001b[0mlevel\u001b[0m\u001b[0;34m,\u001b[0m \u001b[0merrors\u001b[0m\u001b[0;34m=\u001b[0m\u001b[0merrors\u001b[0m\u001b[0;34m)\u001b[0m\u001b[0;34m\u001b[0m\u001b[0;34m\u001b[0m\u001b[0m\n\u001b[0m\u001b[1;32m   4506\u001b[0m \u001b[0;34m\u001b[0m\u001b[0m\n\u001b[1;32m   4507\u001b[0m         \u001b[0;32mif\u001b[0m \u001b[0minplace\u001b[0m\u001b[0;34m:\u001b[0m\u001b[0;34m\u001b[0m\u001b[0;34m\u001b[0m\u001b[0m\n",
            "\u001b[0;32m/usr/local/lib/python3.10/dist-packages/pandas/core/generic.py\u001b[0m in \u001b[0;36m_drop_axis\u001b[0;34m(self, labels, axis, level, errors, only_slice)\u001b[0m\n\u001b[1;32m   4544\u001b[0m                 \u001b[0mnew_axis\u001b[0m \u001b[0;34m=\u001b[0m \u001b[0maxis\u001b[0m\u001b[0;34m.\u001b[0m\u001b[0mdrop\u001b[0m\u001b[0;34m(\u001b[0m\u001b[0mlabels\u001b[0m\u001b[0;34m,\u001b[0m \u001b[0mlevel\u001b[0m\u001b[0;34m=\u001b[0m\u001b[0mlevel\u001b[0m\u001b[0;34m,\u001b[0m \u001b[0merrors\u001b[0m\u001b[0;34m=\u001b[0m\u001b[0merrors\u001b[0m\u001b[0;34m)\u001b[0m\u001b[0;34m\u001b[0m\u001b[0;34m\u001b[0m\u001b[0m\n\u001b[1;32m   4545\u001b[0m             \u001b[0;32melse\u001b[0m\u001b[0;34m:\u001b[0m\u001b[0;34m\u001b[0m\u001b[0;34m\u001b[0m\u001b[0m\n\u001b[0;32m-> 4546\u001b[0;31m                 \u001b[0mnew_axis\u001b[0m \u001b[0;34m=\u001b[0m \u001b[0maxis\u001b[0m\u001b[0;34m.\u001b[0m\u001b[0mdrop\u001b[0m\u001b[0;34m(\u001b[0m\u001b[0mlabels\u001b[0m\u001b[0;34m,\u001b[0m \u001b[0merrors\u001b[0m\u001b[0;34m=\u001b[0m\u001b[0merrors\u001b[0m\u001b[0;34m)\u001b[0m\u001b[0;34m\u001b[0m\u001b[0;34m\u001b[0m\u001b[0m\n\u001b[0m\u001b[1;32m   4547\u001b[0m             \u001b[0mindexer\u001b[0m \u001b[0;34m=\u001b[0m \u001b[0maxis\u001b[0m\u001b[0;34m.\u001b[0m\u001b[0mget_indexer\u001b[0m\u001b[0;34m(\u001b[0m\u001b[0mnew_axis\u001b[0m\u001b[0;34m)\u001b[0m\u001b[0;34m\u001b[0m\u001b[0;34m\u001b[0m\u001b[0m\n\u001b[1;32m   4548\u001b[0m \u001b[0;34m\u001b[0m\u001b[0m\n",
            "\u001b[0;32m/usr/local/lib/python3.10/dist-packages/pandas/core/indexes/base.py\u001b[0m in \u001b[0;36mdrop\u001b[0;34m(self, labels, errors)\u001b[0m\n\u001b[1;32m   6932\u001b[0m         \u001b[0;32mif\u001b[0m \u001b[0mmask\u001b[0m\u001b[0;34m.\u001b[0m\u001b[0many\u001b[0m\u001b[0;34m(\u001b[0m\u001b[0;34m)\u001b[0m\u001b[0;34m:\u001b[0m\u001b[0;34m\u001b[0m\u001b[0;34m\u001b[0m\u001b[0m\n\u001b[1;32m   6933\u001b[0m             \u001b[0;32mif\u001b[0m \u001b[0merrors\u001b[0m \u001b[0;34m!=\u001b[0m \u001b[0;34m\"ignore\"\u001b[0m\u001b[0;34m:\u001b[0m\u001b[0;34m\u001b[0m\u001b[0;34m\u001b[0m\u001b[0m\n\u001b[0;32m-> 6934\u001b[0;31m                 \u001b[0;32mraise\u001b[0m \u001b[0mKeyError\u001b[0m\u001b[0;34m(\u001b[0m\u001b[0;34mf\"{list(labels[mask])} not found in axis\"\u001b[0m\u001b[0;34m)\u001b[0m\u001b[0;34m\u001b[0m\u001b[0;34m\u001b[0m\u001b[0m\n\u001b[0m\u001b[1;32m   6935\u001b[0m             \u001b[0mindexer\u001b[0m \u001b[0;34m=\u001b[0m \u001b[0mindexer\u001b[0m\u001b[0;34m[\u001b[0m\u001b[0;34m~\u001b[0m\u001b[0mmask\u001b[0m\u001b[0;34m]\u001b[0m\u001b[0;34m\u001b[0m\u001b[0;34m\u001b[0m\u001b[0m\n\u001b[1;32m   6936\u001b[0m         \u001b[0;32mreturn\u001b[0m \u001b[0mself\u001b[0m\u001b[0;34m.\u001b[0m\u001b[0mdelete\u001b[0m\u001b[0;34m(\u001b[0m\u001b[0mindexer\u001b[0m\u001b[0;34m)\u001b[0m\u001b[0;34m\u001b[0m\u001b[0;34m\u001b[0m\u001b[0m\n",
            "\u001b[0;31mKeyError\u001b[0m: \"['Timestamp'] not found in axis\""
          ]
        }
      ],
      "source": [
        "# drop timestamp\n",
        "data=data.drop(['Timestamp'],axis=1)"
      ],
      "id": "11e70375"
    },
    {
      "cell_type": "code",
      "execution_count": null,
      "metadata": {
        "id": "3b89b26c"
      },
      "outputs": [],
      "source": [
        "# preprocessing user locations (summerize this)\n",
        "data['Location (City/Region)']=data['Location (City/Region)'].str.strip()\n",
        "data['Location (City/Region)']=data['Location (City/Region)'].replace(['piliyandala','piliyandala.', 'Piliyandala / buddist'],'Piliyandala')\n",
        "data['Location (City/Region)']=data['Location (City/Region)'].replace(['colombo grandpass','Kotahena', 'Kirulapana'],'Colombo')\n",
        "data['Location (City/Region)']=data['Location (City/Region)'].replace('Colombo 05','Colombo')\n",
        "data['Location (City/Region)']=data['Location (City/Region)'].replace(['Singapore',\n",
        "       'Ella', 'Bandaragama', 'Kurunegala', 'Mount lavinia',\n",
        "        'Al khail gate', 'sri lanka , sinhala',\n",
        "       'Battaramulla', 'Kaluthara', 'Melbourne, Australia', 'Ratmalana',\n",
        "       'Awissawella', 'Galle', 'Mathara', 'Nugegoda', 'Mulleriyawa New Town', 'Horana', 'Rathnapura', 'Kegalle', 'Kaduwela', 'Kohuwala', 'Gampaha', 'Balapitiya', 'Thalawathugoda', 'Rajagiriya', 'Panadura',  'Kandy', 'Wattala', 'Ratnapura', 'Panagoda'],'Other')\n",
        "data['Location (City/Region)'].value_counts()"
      ],
      "id": "3b89b26c"
    },
    {
      "cell_type": "code",
      "execution_count": null,
      "metadata": {
        "id": "75fdbb6e"
      },
      "outputs": [],
      "source": [
        "# rename column names to short ones\n",
        "data=data.rename({\n",
        "    'Location (City/Region)':'Location',\n",
        "    'How often do you shop for clothing and apparel?':'Shopping Frequency',\n",
        "    'Where do you usually shop for clothing and fashion products?':'Shopping Methods',\n",
        "    'Do you prefer shopping in physical retail stores or online fashion stores?':'Online, instore preferences',\n",
        "    'What factors influence your choice of shopping?':'Influence Factors',\n",
        "    'What types of clothing do you typically buy?':'Types of Clothing',\n",
        "    'Do you tend to stick with specific fashion brands when shopping?':'Brand Preference',\n",
        "    'What factors influence your brand choices when shopping for clothing? ':'Brand Choice Factors',\n",
        "    'How likely are you to make a purchase if there is a special promotion or discount offered?':'Likeliness of Promotion or Discount',\n",
        "    'What types of promotions or discounts do you find most appealing?':'Preferred Types of Promotions or Discounts',\n",
        "    'How do you prefer to receive communication from fashion and apparel stores?':'Communication Methods', # to methods\n",
        "    'On average, how much do you spend on fashion and apparel items per month?':'Average Spent',\n",
        "    'What payment methods do you primarily use when making fashion and apparel purchases?':'Payment Methods',\n",
        "    'Any additional comments or thoughts you would like to share about your shopping preferences and experiences?':'Comments'\n",
        "}, axis='columns')"
      ],
      "id": "75fdbb6e"
    },
    {
      "cell_type": "code",
      "execution_count": null,
      "metadata": {
        "id": "dc6a6ad2"
      },
      "outputs": [],
      "source": [
        "# remove comments column\n",
        "data = data.drop(['Comments'],axis=1)"
      ],
      "id": "dc6a6ad2"
    },
    {
      "cell_type": "code",
      "execution_count": null,
      "metadata": {
        "id": "MfuTxyMmOqdm"
      },
      "outputs": [],
      "source": [
        "# export the pre-processed dataset\n",
        "data.to_csv(\"/content/pp-dataset.csv\")"
      ],
      "id": "MfuTxyMmOqdm"
    },
    {
      "cell_type": "code",
      "execution_count": null,
      "metadata": {
        "id": "6bdabfd9"
      },
      "outputs": [],
      "source": [
        "raw_data = data.copy()\n",
        "data.columns"
      ],
      "id": "6bdabfd9"
    },
    {
      "cell_type": "code",
      "source": [
        "def pp_types_of_clothing(x):\n",
        "  x = x.replace('(e.g.bags,jewellary', \"\")\n",
        "  x = x.split(\",\")\n",
        "  return x"
      ],
      "metadata": {
        "id": "8uThOW-mzphz"
      },
      "id": "8uThOW-mzphz",
      "execution_count": null,
      "outputs": []
    },
    {
      "cell_type": "code",
      "execution_count": null,
      "metadata": {
        "id": "QynAMp7Gm7rB"
      },
      "outputs": [],
      "source": [
        "# split the multiple choice questions to list\n",
        "data['Influence Factors'] = data['Influence Factors'].apply(lambda x: x.split(\",\"))\n",
        "data['Types of Clothing'] = data['Types of Clothing'].apply(pp_types_of_clothing)\n",
        "data['Brand Choice Factors'] = data['Brand Choice Factors'].apply(lambda x: x.split(\",\"))\n",
        "data['Preferred Types of Promotions or Discounts'] = data['Preferred Types of Promotions or Discounts'].apply(lambda x: x.split(\",\"))\n",
        "data['Payment Methods'] = data['Payment Methods'].apply(lambda x: x.split(\",\"))\n",
        "data['Shopping Methods'] = data['Shopping Methods'].apply(lambda x: x.split(\",\"))\n",
        "data['Communication Methods'] = data['Communication Methods'].apply(lambda x: x.split(\",\"))"
      ],
      "id": "QynAMp7Gm7rB"
    },
    {
      "cell_type": "code",
      "execution_count": null,
      "metadata": {
        "id": "7upM8ooFiEtF"
      },
      "outputs": [],
      "source": [
        "# data['Shopping Methods'] = data['Shopping Methods'].apply(lambda x: x.split(\",\"))\n",
        "\n",
        "def make_boolean(x):\n",
        "  x = x.split(\",\")\n",
        "  return True if x[0].strip() == \"Yes\" else False\n",
        "\n",
        "data['Brand Preference'] = data['Brand Preference'].apply(make_boolean)"
      ],
      "id": "7upM8ooFiEtF"
    },
    {
      "cell_type": "code",
      "execution_count": null,
      "metadata": {
        "id": "AoyF0gghpNfX"
      },
      "outputs": [],
      "source": [
        "# meter\n",
        "# very likely => 5\n",
        "# likely => 4\n",
        "# neutral => 3\n",
        "# unlikely => 2\n",
        "# very unlikely => 1\n",
        "\n",
        "def make_likeliness(x):\n",
        "  x = x.strip()\n",
        "  return 5 if x == \"Very likely\" else 4 if x == \"Likely\" else 3 if x == \"Neutral\" else 2 if x == \"Unlikely\" else 1 if x == \"Very unlikely\"  else 0\n",
        "\n",
        "data['Likeliness of Promotion or Discount'] = data['Likeliness of Promotion or Discount'].apply(make_likeliness)"
      ],
      "id": "AoyF0gghpNfX"
    },
    {
      "cell_type": "markdown",
      "metadata": {
        "id": "HXXjQ6fbvrCc"
      },
      "source": [
        "# Section 2: Visualizations"
      ],
      "id": "HXXjQ6fbvrCc"
    },
    {
      "cell_type": "code",
      "execution_count": null,
      "metadata": {
        "id": "oemWLEQqnaPZ"
      },
      "outputs": [],
      "source": [
        "data.head()"
      ],
      "id": "oemWLEQqnaPZ"
    },
    {
      "cell_type": "code",
      "execution_count": null,
      "metadata": {
        "id": "HT6-J_4lakTx"
      },
      "outputs": [],
      "source": [
        "# Gender Difference\n",
        "gender_count = data.groupby('Gender')['Gender'].count()\n",
        "gender_count.plot.pie(y='mass', figsize=(5, 5),  autopct='%.2f%%')"
      ],
      "id": "HT6-J_4lakTx"
    },
    {
      "cell_type": "code",
      "source": [
        "data.groupby('Location')[\"Gender\"].count()"
      ],
      "metadata": {
        "id": "NVyvuSWSm3_4"
      },
      "id": "NVyvuSWSm3_4",
      "execution_count": null,
      "outputs": []
    },
    {
      "cell_type": "code",
      "execution_count": null,
      "metadata": {
        "id": "0DMSi3tDkVaP"
      },
      "outputs": [],
      "source": [
        "# Location Difference\n",
        "location_count = data.groupby('Location')['Location'].count()\n",
        "location_count.plot.pie(y='mass', figsize=(5, 5),  autopct='%.2f%%')"
      ],
      "id": "0DMSi3tDkVaP"
    },
    {
      "cell_type": "code",
      "execution_count": null,
      "metadata": {
        "id": "pK8vgq6nklj8"
      },
      "outputs": [],
      "source": [
        "# Occupation Difference\n",
        "occupation_count = data.groupby('Occupation')['Occupation'].count()\n",
        "occupation_count.plot.pie(y='mass', figsize=(5, 5),  autopct='%.2f%%')"
      ],
      "id": "pK8vgq6nklj8"
    },
    {
      "cell_type": "code",
      "execution_count": null,
      "metadata": {
        "id": "tpwKrkDMk1Rm"
      },
      "outputs": [],
      "source": [
        "# Age Difference\n",
        "age_count = data.groupby('Age')['Age'].count()\n",
        "age_count.plot.pie(y='mass', figsize=(5, 5),  autopct='%.2f%%')"
      ],
      "id": "tpwKrkDMk1Rm"
    },
    {
      "cell_type": "code",
      "execution_count": null,
      "metadata": {
        "id": "8Tw6FOtJmF27"
      },
      "outputs": [],
      "source": [
        "# Online, instore preferences\n",
        "\n",
        "online_instore_count = data.groupby('Online, instore preferences')['Online, instore preferences'].count()\n",
        "online_instore_count.plot.pie(y='mass', figsize=(5, 5),  autopct='%.2f%%')"
      ],
      "id": "8Tw6FOtJmF27"
    },
    {
      "cell_type": "code",
      "execution_count": null,
      "metadata": {
        "id": "Row09gDzmWk1"
      },
      "outputs": [],
      "source": [
        "# Average Spent\n",
        "\n",
        "avg_spent_count = data.groupby('Average Spent')['Average Spent'].count()\n",
        "avg_spent_count.plot.pie(y='mass', figsize=(5, 5),  autopct='%.2f%%')"
      ],
      "id": "Row09gDzmWk1"
    },
    {
      "cell_type": "code",
      "execution_count": null,
      "metadata": {
        "id": "kPCkPLmUpcML"
      },
      "outputs": [],
      "source": [
        "# Likeliness of Promotion or Discount\n",
        "\n",
        "likeliness_scale_count = data.groupby('Likeliness of Promotion or Discount')['Likeliness of Promotion or Discount'].count()\n",
        "\n",
        "likeliness_scale_count.plot.barh(y='mass', figsize=(5, 5))"
      ],
      "id": "kPCkPLmUpcML"
    },
    {
      "cell_type": "code",
      "execution_count": null,
      "metadata": {
        "id": "BBiE2DG5-YRs"
      },
      "outputs": [],
      "source": [
        "data.info()"
      ],
      "id": "BBiE2DG5-YRs"
    },
    {
      "cell_type": "markdown",
      "metadata": {
        "id": "aP-yUEvEwKbD"
      },
      "source": [
        "# Section 3: Data Encoding"
      ],
      "id": "aP-yUEvEwKbD"
    },
    {
      "cell_type": "code",
      "execution_count": null,
      "metadata": {
        "id": "3GbomKdF9Tt-"
      },
      "outputs": [],
      "source": [
        "data.index = range(len(data))"
      ],
      "id": "3GbomKdF9Tt-"
    },
    {
      "cell_type": "code",
      "execution_count": null,
      "metadata": {
        "id": "IU9jv-3Nxm6X"
      },
      "outputs": [],
      "source": [
        "# preprocess lists\n",
        "\n",
        "# as mentioned in pre-processing here we take the columns that has lists and put that list items in to the columns by appending the item name to the column name. and if that item is in that row's list we make that column 1 and if it's not present we make it 0.\n",
        "# It's similler to the onehot encoding.\n",
        "# refer: https://scikit-learn.org/stable/modules/generated/sklearn.preprocessing.OneHotEncoder.html\n",
        "\n",
        "def get_uniques(x):\n",
        "  columns = []\n",
        "  for _x in x:\n",
        "    for __x in _x:\n",
        "      __x = __x.strip()\n",
        "      if(not columns.count(__x)):\n",
        "        columns.append(__x)\n",
        "  return columns\n",
        "\n",
        "def add_columns(new_columns, prefix):\n",
        "  for nc in new_columns:\n",
        "    data[prefix + \"_\"+ nc] = 0\n",
        "\n",
        "def fill(prefix):\n",
        "  for i in range(len(data[prefix])):\n",
        "    for __x in data.loc[i, prefix]:\n",
        "      __x = __x.strip()\n",
        "      data[prefix + \"_\"+ __x][i] = 1\n",
        "\n",
        "def preprocess_lists(column_name):\n",
        "  uniques = get_uniques(data[column_name])\n",
        "  add_columns(uniques, column_name)\n",
        "  fill(column_name)\n",
        "  data.drop([column_name], axis=1, inplace=True)\n",
        "\n",
        "\n",
        "preprocess_lists('Types of Clothing')\n",
        "preprocess_lists('Shopping Methods')\n",
        "preprocess_lists('Influence Factors')\n",
        "preprocess_lists('Brand Choice Factors')\n",
        "preprocess_lists('Preferred Types of Promotions or Discounts')\n",
        "preprocess_lists('Communication Methods')\n",
        "preprocess_lists('Payment Methods')\n",
        "\n",
        "data"
      ],
      "id": "IU9jv-3Nxm6X"
    },
    {
      "cell_type": "code",
      "execution_count": null,
      "metadata": {
        "id": "dd14ebfb"
      },
      "outputs": [],
      "source": [
        "# then we label encode the other columns that has string values.\n",
        "\n",
        "from sklearn.preprocessing import LabelEncoder\n",
        "\n",
        "categorical_columns = ['Gender', 'Age']\n",
        "label_encoder = LabelEncoder()\n",
        "\n",
        "data[['Age', 'Gender', 'Occupation', 'Location', 'Shopping Frequency','Online, instore preferences',\n",
        "       'Average Spent', 'Brand Preference']]= data[['Age', 'Gender', 'Occupation', 'Location', 'Shopping Frequency', 'Online, instore preferences',\n",
        "       'Average Spent', 'Brand Preference']].apply(LabelEncoder().fit_transform)\n",
        "data"
      ],
      "id": "dd14ebfb"
    },
    {
      "cell_type": "code",
      "execution_count": null,
      "metadata": {
        "id": "5h83L8K84QBC"
      },
      "outputs": [],
      "source": [
        "def graph_component_silhouette(n_clusters, lim_x, mat_size, sample_silhouette_values, clusters):\n",
        "    plt.rcParams[\"patch.force_edgecolor\"] = True\n",
        "    plt.style.use('fivethirtyeight')\n",
        "    mpl.rc('patch', edgecolor = 'dimgray', linewidth=1)\n",
        "    fig, ax1 = plt.subplots(1, 1)\n",
        "    fig.set_size_inches(8, 8)\n",
        "    ax1.set_xlim([lim_x[0], lim_x[1]])\n",
        "    ax1.set_ylim([0, mat_size + (n_clusters + 1) * 10])\n",
        "    y_lower = 10\n",
        "    for i in range(n_clusters):\n",
        "        # Aggregate the silhouette scores for samples belonging to cluster i, and sort them\n",
        "        ith_cluster_silhouette_values = sample_silhouette_values[clusters == i]\n",
        "        ith_cluster_silhouette_values.sort()\n",
        "        size_cluster_i = ith_cluster_silhouette_values.shape[0]\n",
        "        y_upper = y_lower + size_cluster_i\n",
        "        cmap = mpl.colormaps[\"Spectral\"]\n",
        "        color = cmap(float(i) / n_clusters)\n",
        "        ax1.fill_betweenx(np.arange(y_lower, y_upper), 0, ith_cluster_silhouette_values,\n",
        "                           facecolor=color, edgecolor=color, alpha=0.8)\n",
        "\n",
        "        # Label the silhouette plots with their cluster numbers at the middle\n",
        "        ax1.text(-0.03, y_lower + 0.5 * size_cluster_i, str(i), color = 'red', fontweight = 'bold',\n",
        "                bbox=dict(facecolor='white', edgecolor='black', boxstyle='round, pad=0.3'))\n",
        "\n",
        "        # Compute the new y_lower for next plot\n",
        "        y_lower = y_upper + 10\n",
        "    plt.show()"
      ],
      "id": "5h83L8K84QBC"
    },
    {
      "cell_type": "markdown",
      "metadata": {
        "id": "d0Bg09VBwisq"
      },
      "source": [
        "# Section 4: Customer Segmentaion using K Means"
      ],
      "id": "d0Bg09VBwisq"
    },
    {
      "cell_type": "code",
      "source": [
        "def graph_comp(matrix, clusters, n_clusters):\n",
        "  sample_silhouette_values = silhouette_samples(matrix, clusters)\n",
        "  graph_component_silhouette(n_clusters, [-0.1, 1], len(matrix), sample_silhouette_values, clusters)"
      ],
      "metadata": {
        "id": "P7Sb1qJPBAtt"
      },
      "id": "P7Sb1qJPBAtt",
      "execution_count": null,
      "outputs": []
    },
    {
      "cell_type": "code",
      "execution_count": null,
      "metadata": {
        "id": "wEFQyDtucMCz"
      },
      "outputs": [],
      "source": [
        "# Define function to benchmarking the performance of the different number of clusters\n",
        "\n",
        "def benchmark_K_means(X, max_n_clusters, draw_graph_comp=False):\n",
        "  wcss = [] # withing cluster sum of squares\n",
        "  silhouette = []\n",
        "  for i in range(2, max_n_clusters):\n",
        "    kmeans = KMeans(n_clusters=i, init='k-means++', random_state=4, n_init=\"auto\")\n",
        "    kmeans.fit(X)\n",
        "    wcss.append(kmeans.inertia_)\n",
        "    clusters = kmeans.predict(X)\n",
        "    if draw_graph_comp:\n",
        "      print(\"N clusters:\" + str(i))\n",
        "      graph_comp(data, clusters, i)\n",
        "      print(\"---\")\n",
        "    silhouette_avg = silhouette_score(X, clusters)\n",
        "    silhouette.append(silhouette_avg)\n",
        "\n",
        "  plt.plot(range(2, max_n_clusters), wcss)\n",
        "  plt.title('The Elbow Method')\n",
        "  plt.xlabel('no of clusters')\n",
        "  plt.ylabel('wcss')\n",
        "  plt.show()\n",
        "\n",
        "  plt.plot(range(2, max_n_clusters), silhouette)\n",
        "  plt.title('Silhouette Avg')\n",
        "  plt.xlabel('no of clusters')\n",
        "  plt.ylabel('Avg')\n",
        "  plt.show()\n",
        "  print(wcss)\n",
        "  print(silhouette)"
      ],
      "id": "wEFQyDtucMCz"
    },
    {
      "cell_type": "code",
      "execution_count": null,
      "metadata": {
        "id": "X3cypPJ3lYuw"
      },
      "outputs": [],
      "source": [
        "benchmark_K_means(data, 11, True)"
      ],
      "id": "X3cypPJ3lYuw"
    },
    {
      "cell_type": "code",
      "execution_count": null,
      "metadata": {
        "id": "b_WASIrda12c"
      },
      "outputs": [],
      "source": [
        "data.describe()"
      ],
      "id": "b_WASIrda12c"
    },
    {
      "cell_type": "code",
      "execution_count": null,
      "metadata": {
        "id": "HNNjiR7edUnY"
      },
      "outputs": [],
      "source": [],
      "id": "HNNjiR7edUnY"
    },
    {
      "cell_type": "code",
      "source": [
        "data.groupby([\"Age\"]).count()"
      ],
      "metadata": {
        "id": "kFfcnW89UDed"
      },
      "id": "kFfcnW89UDed",
      "execution_count": null,
      "outputs": []
    },
    {
      "cell_type": "markdown",
      "metadata": {
        "id": "tI8FNj87w0Fz"
      },
      "source": [
        "# Section 4: Customer Segmentaion using K Means (With Dimention Reduction)"
      ],
      "id": "tI8FNj87w0Fz"
    },
    {
      "cell_type": "code",
      "execution_count": null,
      "metadata": {
        "id": "mDAZxXNaiBnX"
      },
      "outputs": [],
      "source": [
        "# data2 = data.drop(['Cluster', 'cluster'], axis=1)"
      ],
      "id": "mDAZxXNaiBnX"
    },
    {
      "cell_type": "code",
      "execution_count": null,
      "metadata": {
        "id": "Bvkufx-u-Vzy"
      },
      "outputs": [],
      "source": [
        "# Write this first\n",
        "# PCA\n",
        "\n",
        "# reduced data using PCA to 2 dims\n",
        "\n",
        "from sklearn.decomposition import PCA\n",
        "import matplotlib.pyplot as plt\n",
        "# from sklearn.preprocessing import StandardScaler\n",
        "\n",
        "# scaler = StandardScaler()\n",
        "# data_scaled = scaler.fit_transform(data)\n",
        "\n",
        "pca = PCA(n_components=2)\n",
        "reduced_data = pca.fit_transform(data)\n",
        "\n",
        "\n",
        "# then benchmarked the results\n",
        "# First graph uses the elbow method analysis, it's plotted n_clusters = 2 to 10.\n",
        "# wcss is withing cluster sum of squares\n",
        "# by looking at the elbow method (ref: https://www.geeksforgeeks.org/elbow-method-for-optimal-value-of-k-in-kmeans) and silttouse average scores we can determine the n_clusters = 4 is best for this\n",
        "benchmark_K_means(reduced_data, 11)"
      ],
      "id": "Bvkufx-u-Vzy"
    },
    {
      "cell_type": "code",
      "source": [
        "kmeans = KMeans(n_clusters=4, init='k-means++', random_state=4, n_init=\"auto\")\n",
        "data_copy = data.copy()\n",
        "kmeans.fit(reduced_data)\n",
        "data_copy['cluster'] = kmeans.labels_"
      ],
      "metadata": {
        "id": "J9quxf5BaMYs"
      },
      "id": "J9quxf5BaMYs",
      "execution_count": null,
      "outputs": []
    },
    {
      "cell_type": "code",
      "source": [
        "data_copy['cluster'].describe()"
      ],
      "metadata": {
        "id": "9u2roZ5GbSUC"
      },
      "id": "9u2roZ5GbSUC",
      "execution_count": null,
      "outputs": []
    },
    {
      "cell_type": "code",
      "source": [
        "plt.plot(np.arange(len(pca.explained_variance_)), pca.explained_variance_)\n",
        "plt.xlabel('Principal Component')\n",
        "plt.ylabel('Explained Variance Ratio')\n",
        "plt.show()"
      ],
      "metadata": {
        "id": "8n812rSLbfRC"
      },
      "id": "8n812rSLbfRC",
      "execution_count": null,
      "outputs": []
    },
    {
      "cell_type": "code",
      "execution_count": null,
      "metadata": {
        "id": "ZMwJi7V-7E-w"
      },
      "outputs": [],
      "source": [
        "def graph_comp(matrix, clusters, n_clusters):\n",
        "  sample_silhouette_values = silhouette_samples(matrix, clusters)\n",
        "  graph_component_silhouette(n_clusters, [-0.1, 1], len(matrix), sample_silhouette_values, clusters)"
      ],
      "id": "ZMwJi7V-7E-w"
    },
    {
      "cell_type": "code",
      "execution_count": null,
      "metadata": {
        "id": "isdtoXv5Eeh2"
      },
      "outputs": [],
      "source": [
        "def k_means_plot(n):\n",
        "  print(\"________________________________________________________\")\n",
        "  print(f\"Each of this indicate the silhouette analysis when the n_clusters = {n}.\")\n",
        "  print(f\"Number of Clusters = {n}\" )\n",
        "  kmeans = KMeans(init=\"k-means++\", n_clusters=n, n_init='auto', )\n",
        "  C = kmeans.fit_predict(reduced_data)\n",
        "  silhouette_avg = silhouette_score(reduced_data, C)\n",
        "  print(f\"score: {silhouette_avg}\")\n",
        "\n",
        "  graph_comp(reduced_data, C, n)\n",
        "  # Step size of the mesh. Decrease to increase the quality of the VQ.\n",
        "  h = 0.02  # point in the mesh [x_min, x_max]x[y_min, y_max].\n",
        "\n",
        "  # Plot the decision boundary. For that, we will assign a color to each\n",
        "  x_min, x_max = reduced_data[:, 0].min() - 1, reduced_data[:, 0].max() + 1\n",
        "  y_min, y_max = reduced_data[:, 1].min() - 1, reduced_data[:, 1].max() + 1\n",
        "  xx, yy = np.meshgrid(np.arange(x_min, x_max, h), np.arange(y_min, y_max, h))\n",
        "\n",
        "  # Obtain labels for each point in mesh. Use last trained model.\n",
        "  Z = kmeans.predict(np.c_[xx.ravel(), yy.ravel()])\n",
        "\n",
        "  # Put the result into a color plot\n",
        "  Z = Z.reshape(xx.shape)\n",
        "  plt.figure(1)\n",
        "  plt.clf()\n",
        "  plt.imshow(\n",
        "      Z,\n",
        "      interpolation=\"nearest\",\n",
        "      extent=(xx.min(), xx.max(), yy.min(), yy.max()),\n",
        "      cmap=plt.cm.Paired,\n",
        "      aspect=\"auto\",\n",
        "      origin=\"lower\",\n",
        "  )\n",
        "\n",
        "  plt.plot(reduced_data[:, 0], reduced_data[:, 1], \"k.\", markersize=2)\n",
        "  # Plot the centroids as a white X\n",
        "  centroids = kmeans.cluster_centers_\n",
        "  plt.scatter(\n",
        "      centroids[:, 0],\n",
        "      centroids[:, 1],\n",
        "      marker=\"x\",\n",
        "      s=169,\n",
        "      linewidths=3,\n",
        "      color=\"w\",\n",
        "      zorder=10,\n",
        "  )\n",
        "  plt.title(str(n) + \" clusters\")\n",
        "  plt.xlim(x_min, x_max)\n",
        "  plt.ylim(y_min, y_max)\n",
        "  plt.xticks(())\n",
        "  plt.yticks(())\n",
        "  plt.show()\n",
        "  print(\"________________________________________________________\")"
      ],
      "id": "isdtoXv5Eeh2"
    },
    {
      "cell_type": "code",
      "source": [
        "def cluster_area_plot(data, model, n, h = 0.02):\n",
        "  x_min, x_max = data[:, 0].min() - 1, data[:, 0].max() + 1\n",
        "  y_min, y_max = data[:, 1].min() - 1, data[:, 1].max() + 1\n",
        "  xx, yy = np.meshgrid(np.arange(x_min, x_max, h), np.arange(y_min, y_max, h))\n",
        "\n",
        "  # Obtain labels for each point in mesh. Use last trained model.\n",
        "  Z = model.predict(np.c_[xx.ravel(), yy.ravel()])\n",
        "\n",
        "  # Put the result into a color plot\n",
        "  Z = Z.reshape(xx.shape)\n",
        "  plt.figure(1)\n",
        "  plt.clf()\n",
        "  plt.imshow(\n",
        "      Z,\n",
        "      interpolation=\"nearest\",\n",
        "      extent=(xx.min(), xx.max(), yy.min(), yy.max()),\n",
        "      cmap=plt.cm.Paired,\n",
        "      aspect=\"auto\",\n",
        "      origin=\"lower\",\n",
        "  )\n",
        "\n",
        "  plt.plot(data[:, 0], data[:, 1], \"k.\", markersize=2)\n",
        "  # Plot the centroids\n",
        "  centroids = model.cluster_centers_\n",
        "  plt.scatter(\n",
        "      centroids[:, 0],\n",
        "      centroids[:, 1],\n",
        "      marker=\"o\",\n",
        "      s=169,\n",
        "      linewidths=3,\n",
        "      color=\"w\",\n",
        "      zorder=10,\n",
        "  )\n",
        "  plt.title(str(n) + \" clusters\")\n",
        "  plt.xlim(x_min, x_max)\n",
        "  plt.ylim(y_min, y_max)\n",
        "  plt.xticks(())\n",
        "  plt.yticks(())\n",
        "  plt.show()"
      ],
      "metadata": {
        "id": "aQFUpDJutWey"
      },
      "id": "aQFUpDJutWey",
      "execution_count": null,
      "outputs": []
    },
    {
      "cell_type": "code",
      "execution_count": null,
      "metadata": {
        "id": "_ywUcHEIKIEz"
      },
      "outputs": [],
      "source": [
        "for n in range(2, 11):\n",
        "  k_means_plot(n)"
      ],
      "id": "_ywUcHEIKIEz"
    },
    {
      "cell_type": "code",
      "execution_count": null,
      "metadata": {
        "id": "3HzajyYimkPN"
      },
      "outputs": [],
      "source": [
        "# Section 5: Demographic Customer Segmentaion using K Means (With Dimention Reduction)\n",
        "\n",
        "reduced_demographic_data = PCA(n_components=2).fit_transform(data[['Age', 'Gender', 'Occupation']])\n",
        "\n",
        "benchmark_K_means(reduced_demographic_data, 11)"
      ],
      "id": "3HzajyYimkPN"
    },
    {
      "cell_type": "markdown",
      "source": [
        "# Demographic Segmentation (Without PCA)"
      ],
      "metadata": {
        "id": "sT0nQzBmrrKr"
      },
      "id": "sT0nQzBmrrKr"
    },
    {
      "cell_type": "code",
      "source": [
        "demographic_data = data[[\"Age\", \"Gender\", \"Occupation\", \"Location\", \"Shopping Frequency\"]] # select the features that applicable for demographic segmentation\n",
        "\n",
        "print(demographic_data.groupby([\"Age\"]).count())\n",
        "benchmark_K_means(demographic_data, 11)"
      ],
      "metadata": {
        "id": "RgJ9d9RdMD6Y"
      },
      "id": "RgJ9d9RdMD6Y",
      "execution_count": null,
      "outputs": []
    },
    {
      "cell_type": "code",
      "source": [
        "# By looking at the benchmark_K_means results n_clusters = 4 will be the optimum\n",
        "\n",
        "# Perform customer segmentation using k-means clustering\n",
        "\n",
        "\n",
        "\n",
        "demographic_best_n_clusters = 4\n",
        "\n",
        "kmeans = KMeans(n_clusters=demographic_best_n_clusters, random_state=4, n_init=\"auto\")  # Adjust the number of clusters based on your analysis\n",
        "raw_data[\"Demographic Cluster\"] = kmeans.fit_predict(demographic_data)\n",
        "\n",
        "# Create visualizations to explore segmentation results\n",
        "\n",
        "# 1. Distribution of customers across clusters\n",
        "plt.bar([f\"{i}\" for i in range(demographic_best_n_clusters)], raw_data[\"Demographic Cluster\"].value_counts())\n",
        "plt.xlabel(\"Demographic Cluster\")\n",
        "plt.ylabel(\"Number of customers\")\n",
        "plt.title(\"Customer Distribution Across Demographic Clusters\")\n",
        "plt.show()\n"
      ],
      "metadata": {
        "id": "SDGlHC5ImyGu"
      },
      "id": "SDGlHC5ImyGu",
      "execution_count": null,
      "outputs": []
    },
    {
      "cell_type": "markdown",
      "source": [],
      "metadata": {
        "id": "l5ICk0cbQvcK"
      },
      "id": "l5ICk0cbQvcK"
    },
    {
      "cell_type": "code",
      "source": [
        "def draw_plot(n_clusters, xlabel, xlim=3):\n",
        "  fig, ax = plt.subplots(2, 2, figsize=(8, 10))\n",
        "\n",
        "  for c1 in range(int(n_clusters / 2)):\n",
        "      for c2 in range(int(n_clusters / 2)):\n",
        "        ax[c1, c2].set_xlim(right=xlim)\n",
        "        ax[c1, c2].set_ylim(0, 45)\n",
        "        ax[c1, c2].hist(raw_data.loc[raw_data[\"Demographic Cluster\"] == (2 * c1) + c2, xlabel])\n",
        "        ax[c1, c2].set_xlabel(xlabel,  fontsize='small')\n",
        "        ax[c1, c2].set_ylabel(\"Number of customers\",  fontsize='small')\n",
        "        ax[c1, c2].set_title(\"Cluster {}\".format((2 * c1) + c2),  fontsize='small')\n",
        "  plt.show()"
      ],
      "metadata": {
        "id": "SHiYsqwsQwIb"
      },
      "id": "SHiYsqwsQwIb",
      "execution_count": null,
      "outputs": []
    },
    {
      "cell_type": "code",
      "source": [
        "# 2. Age distribution within each cluster\n",
        "draw_plot(4, \"Age\")"
      ],
      "metadata": {
        "id": "YarhFbY8OY60"
      },
      "id": "YarhFbY8OY60",
      "execution_count": null,
      "outputs": []
    },
    {
      "cell_type": "code",
      "source": [
        "draw_plot(4, \"Gender\", 1)"
      ],
      "metadata": {
        "id": "2k8X3vMLSKF5"
      },
      "id": "2k8X3vMLSKF5",
      "execution_count": null,
      "outputs": []
    },
    {
      "cell_type": "code",
      "source": [
        "draw_plot(4, \"Location\")"
      ],
      "metadata": {
        "id": "vtRtRnGzbma7"
      },
      "id": "vtRtRnGzbma7",
      "execution_count": null,
      "outputs": []
    },
    {
      "cell_type": "markdown",
      "source": [
        "# Demographic Segmentation (With PCA)"
      ],
      "metadata": {
        "id": "2qIMimXjuk5A"
      },
      "id": "2qIMimXjuk5A"
    },
    {
      "cell_type": "code",
      "source": [
        "demographic_data = data[[\"Age\", \"Gender\", \"Occupation\", \"Location\", \"Shopping Frequency\"]] # select the features that applicable for demographic segmentation\n",
        "\n",
        "pca = PCA(n_components=2)\n",
        "reduced_demographic_data = pca.fit_transform(demographic_data)\n",
        "\n",
        "benchmark_K_means(reduced_demographic_data, 11)"
      ],
      "metadata": {
        "id": "smFmcbA-sKuU"
      },
      "id": "smFmcbA-sKuU",
      "execution_count": null,
      "outputs": []
    },
    {
      "cell_type": "code",
      "source": [
        "N_CLUSTERS = 4\n",
        "\n",
        "kmeans = KMeans(n_clusters=N_CLUSTERS, random_state=4, n_init=\"auto\")  # Adjust the number of clusters based on your analysis\n",
        "demographic_data[\"Demographic Cluster PCA\"] = kmeans.fit_predict(reduced_demographic_data)\n",
        "\n",
        "# 1. Distribution of customers across clusters\n",
        "plt.bar([f\"{i}\" for i in range(N_CLUSTERS)], demographic_data[\"Demographic Cluster PCA\"].value_counts())\n",
        "plt.xlabel(\"Demographic Cluster PCA\")\n",
        "plt.ylabel(\"Number of customers\")\n",
        "plt.title(\"Customer Distribution Across Demographic Clusters\")\n",
        "plt.show()"
      ],
      "metadata": {
        "id": "iAnawb3UshCM"
      },
      "id": "iAnawb3UshCM",
      "execution_count": null,
      "outputs": []
    },
    {
      "cell_type": "code",
      "source": [
        "# 2. Age distribution within each cluster\n",
        "fig, ax = plt.subplots(2, 2, figsize=(8, 10))\n",
        "\n",
        "for c1 in range(int(demographic_best_n_clusters / 2)):\n",
        "    for c2 in range(int(demographic_best_n_clusters / 2)):\n",
        "      ax[c1, c2].set_xlim(right=3)\n",
        "      ax[c1, c2].set_ylim(0, 45)\n",
        "      ax[c1, c2].hist(demographic_data.loc[demographic_data[\"Demographic Cluster PCA\"] == (2 * c1) + c2, \"Gender\"], range=(-1, 1))\n",
        "      ax[c1, c2].set_xlabel(\"Gender\",  fontsize='small')\n",
        "      ax[c1, c2].set_ylabel(\"Number of customers\",  fontsize='small')\n",
        "      ax[c1, c2].set_title(\"Cluster {}\".format((2 * c1) + c2),  fontsize='small')\n",
        "plt.show()"
      ],
      "metadata": {
        "id": "yqRNLlOKtE0U"
      },
      "id": "yqRNLlOKtE0U",
      "execution_count": null,
      "outputs": []
    },
    {
      "cell_type": "code",
      "source": [
        "cluster_area_plot(reduced_demographic_data, kmeans, N_CLUSTERS)"
      ],
      "metadata": {
        "id": "27NagzAXtvCb"
      },
      "id": "27NagzAXtvCb",
      "execution_count": null,
      "outputs": []
    },
    {
      "cell_type": "code",
      "source": [
        "data"
      ],
      "metadata": {
        "id": "0Mw9IZz7UXE_"
      },
      "id": "0Mw9IZz7UXE_",
      "execution_count": null,
      "outputs": []
    },
    {
      "cell_type": "code",
      "source": [
        "# Brand Choice Factors\n",
        "# Influence Factors\n",
        "# Shopping Frequency\n",
        "# Shopping Methods\n",
        "# Online, In-store Preferences\n",
        "# Types of Clothing\n",
        "# Average Spent\n",
        "# Prefered Types of Promotions or Discounts\n",
        "# Likeliness of Promotion or Discount\n",
        "\n",
        "psychographic_data = data[['Online, instore preferences', 'Shopping Frequency', 'Brand Preference',\n",
        "       'Likeliness of Promotion or Discount', 'Average Spent',\n",
        "       'Types of Clothing_Casual Wear',\n",
        "       'Types of Clothing_Accessories',\n",
        "       'Types of Clothing_Formal Wear',\n",
        "       'Types of Clothing_Athletic/Activewear',\n",
        "       'Types of Clothing_Ethnic or traditional wear',\n",
        "       'Shopping Methods_Physical retail stores',\n",
        "       'Shopping Methods_Online fashion stores/ web-sites',\n",
        "       'Shopping Methods_Department stores', 'Shopping Methods_Boutiques',\n",
        "       'Shopping Methods_Thrift/ Second Hand shops',\n",
        "       'Influence Factors_Availability of a wide range of options',\n",
        "       'Influence Factors_Competitive pricing',\n",
        "       'Influence Factors_Ability to try on products before purchasing',\n",
        "       'Influence Factors_Convenience',\n",
        "       'Influence Factors_Personalized shopping experience',\n",
        "       'Influence Factors_Environmental considerations (eg. reduce carbon emission)',\n",
        "       'Brand Choice Factors_Price and affordability',\n",
        "       'Brand Choice Factors_Trendiness and style',\n",
        "       'Brand Choice Factors_Promotions and Discounts',\n",
        "       'Brand Choice Factors_Brand reputation and quality',\n",
        "       'Brand Choice Factors_Brand\\'s commitment to sustainability',\n",
        "       'Preferred Types of Promotions or Discounts_Percentage discounts',\n",
        "       'Preferred Types of Promotions or Discounts_Seasonal sales',\n",
        "       'Preferred Types of Promotions or Discounts_Other',\n",
        "       'Preferred Types of Promotions or Discounts_Buy-one-get-one(BOGO) deals',\n",
        "       'Preferred Types of Promotions or Discounts_Free shipping',\n",
        "       'Preferred Types of Promotions or Discounts_Loyalty rewards programs']]\n",
        "\n",
        "print(len(psychographic_data.columns))\n",
        "psychographic_data.columns"
      ],
      "metadata": {
        "id": "1tUaJqaxUTlh"
      },
      "id": "1tUaJqaxUTlh",
      "execution_count": null,
      "outputs": []
    },
    {
      "cell_type": "code",
      "source": [
        "benchmark_K_means(psychographic_data, 11)"
      ],
      "metadata": {
        "id": "Lszcq80sVhL4"
      },
      "id": "Lszcq80sVhL4",
      "execution_count": null,
      "outputs": []
    },
    {
      "cell_type": "code",
      "source": [
        "# psychographic_data.columns\n",
        "pca = PCA(n_components=2)\n",
        "reduced_psychographic_data = pca.fit_transform(psychographic_data)\n",
        "\n",
        "benchmark_K_means(reduced_psychographic_data, 11)"
      ],
      "metadata": {
        "id": "d7v9-gPZTdhI"
      },
      "id": "d7v9-gPZTdhI",
      "execution_count": null,
      "outputs": []
    },
    {
      "cell_type": "code",
      "source": [
        "N_CLUSTERS = 5\n",
        "\n",
        "kmeans = KMeans(n_clusters=N_CLUSTERS, random_state=4, n_init=\"auto\")  # Adjust the number of clusters based on your analysis\n",
        "psychographic_data[\"Psychographic Cluster PCA\"] = kmeans.fit_predict(reduced_psychographic_data)\n",
        "\n",
        "# 1. Distribution of customers across clusters\n",
        "plt.bar([f\"{i}\" for i in range(N_CLUSTERS)], psychographic_data[\"Psychographic Cluster PCA\"].value_counts())\n",
        "plt.xlabel(\"Psychographic Cluster PCA\")\n",
        "plt.ylabel(\"Number of customers\")\n",
        "plt.title(\"Customer Distribution Across Psychographic Clusters\")\n",
        "plt.show()"
      ],
      "metadata": {
        "id": "AMuyP6GiVyuH"
      },
      "id": "AMuyP6GiVyuH",
      "execution_count": null,
      "outputs": []
    },
    {
      "cell_type": "code",
      "source": [
        "cluster_area_plot(reduced_psychographic_data, kmeans, N_CLUSTERS)"
      ],
      "metadata": {
        "id": "8AsQjF1PWIiu"
      },
      "id": "8AsQjF1PWIiu",
      "execution_count": null,
      "outputs": []
    },
    {
      "cell_type": "code",
      "source": [
        "# Online, In-store Preferences\n",
        "# Communication Method\n",
        "# Payment Methods\n",
        "\n",
        "technographic_data = data[['Payment Methods_Cash', 'Payment Methods_Credit/Debit Card',\n",
        "       'Payment Methods_Mobile Payment Apps',\n",
        "       'Payment Methods_Online Payment Platforms', 'Communication Methods_SMS/text messages',\n",
        "       'Communication Methods_Social media updates',\n",
        "       'Communication Methods_In store notifications',\n",
        "       'Communication Methods_Leaflets',\n",
        "       'Communication Methods_Email newsletters', 'Online, instore preferences']]\n",
        "\n",
        "len(technographic_data.columns)"
      ],
      "metadata": {
        "id": "LN9mb5JqYhp7"
      },
      "id": "LN9mb5JqYhp7",
      "execution_count": null,
      "outputs": []
    },
    {
      "cell_type": "code",
      "source": [
        "benchmark_K_means(technographic_data, 11)"
      ],
      "metadata": {
        "id": "EwZ-ih7OaVEB"
      },
      "id": "EwZ-ih7OaVEB",
      "execution_count": null,
      "outputs": []
    },
    {
      "cell_type": "code",
      "source": [
        "pca = PCA(n_components=2)\n",
        "reduced_technographic_data = pca.fit_transform(technographic_data)\n",
        "\n",
        "benchmark_K_means(reduced_technographic_data, 11)"
      ],
      "metadata": {
        "id": "NNP07RJQZQNy"
      },
      "id": "NNP07RJQZQNy",
      "execution_count": null,
      "outputs": []
    },
    {
      "cell_type": "code",
      "source": [
        "N_CLUSTERS = 8\n",
        "\n",
        "kmeans = KMeans(n_clusters=N_CLUSTERS, random_state=4, n_init=\"auto\")  # Adjust the number of clusters based on your analysis\n",
        "technographic_data[\"Technographic Cluster PCA\"] = kmeans.fit_predict(reduced_technographic_data)\n",
        "\n",
        "# 1. Distribution of customers across clusters\n",
        "plt.bar([f\"{i}\" for i in range(N_CLUSTERS)], technographic_data[\"Technographic Cluster PCA\"].value_counts())\n",
        "plt.xlabel(\"Technographic Cluster PCA\")\n",
        "plt.ylabel(\"Number of customers\")\n",
        "plt.title(\"Customer Distribution Across Technographic Clusters\")\n",
        "plt.show()"
      ],
      "metadata": {
        "id": "n0EQi4U3Zg_Z"
      },
      "id": "n0EQi4U3Zg_Z",
      "execution_count": null,
      "outputs": []
    },
    {
      "cell_type": "code",
      "source": [
        "cluster_area_plot(reduced_technographic_data, kmeans, N_CLUSTERS)"
      ],
      "metadata": {
        "id": "RviSidveZrR6"
      },
      "id": "RviSidveZrR6",
      "execution_count": null,
      "outputs": []
    },
    {
      "cell_type": "code",
      "source": [
        "# Shopping Frequency\n",
        "# Shopping Methods\n",
        "# Online, In-store Preferences\n",
        "# Types of Clothing\n",
        "# Brand Preference\n",
        "# Average Spent\n",
        "# Payment Methods\n",
        "# Prefered Types of Promotions or Discounts\n",
        "data.columns"
      ],
      "metadata": {
        "id": "CqiAbVXbbVnp"
      },
      "id": "CqiAbVXbbVnp",
      "execution_count": null,
      "outputs": []
    },
    {
      "cell_type": "code",
      "source": [
        "behavioral_data = data[['Shopping Frequency', 'Shopping Methods_Physical retail stores',\n",
        "       'Shopping Methods_Online fashion stores/ web-sites',\n",
        "       'Shopping Methods_Department stores', 'Shopping Methods_Boutiques',\n",
        "       'Shopping Methods_Thrift/ Second Hand shops', 'Online, instore preferences', 'Types of Clothing_Casual Wear', 'Types of Clothing_Accessories',\n",
        "       'Types of Clothing_Formal Wear',\n",
        "       'Types of Clothing_Athletic/Activewear',\n",
        "       'Types of Clothing_Ethnic or traditional wear', 'Brand Preference', 'Payment Methods_Cash',\n",
        "       'Payment Methods_Credit/Debit Card',\n",
        "       'Payment Methods_Mobile Payment Apps',\n",
        "       'Payment Methods_Online Payment Platforms', 'Average Spent', 'Preferred Types of Promotions or Discounts_Percentage discounts',\n",
        "       'Preferred Types of Promotions or Discounts_Seasonal sales',\n",
        "       'Preferred Types of Promotions or Discounts_Other',\n",
        "       'Preferred Types of Promotions or Discounts_Buy-one-get-one(BOGO) deals',\n",
        "       'Preferred Types of Promotions or Discounts_Free shipping',\n",
        "       'Preferred Types of Promotions or Discounts_Loyalty rewards programs',]]\n",
        "\n",
        "behavioral_data.shape"
      ],
      "metadata": {
        "id": "eONLTNcEbZGG"
      },
      "id": "eONLTNcEbZGG",
      "execution_count": null,
      "outputs": []
    },
    {
      "cell_type": "code",
      "source": [
        "benchmark_K_means(behavioral_data, 11)"
      ],
      "metadata": {
        "id": "qrnunuhYcGyn"
      },
      "id": "qrnunuhYcGyn",
      "execution_count": null,
      "outputs": []
    },
    {
      "cell_type": "code",
      "source": [
        "pca = PCA(n_components=2)\n",
        "reduced_behavioral_data = pca.fit_transform(behavioral_data)\n",
        "\n",
        "benchmark_K_means(reduced_behavioral_data, 11)"
      ],
      "metadata": {
        "id": "GfP6IIlRcLCu"
      },
      "id": "GfP6IIlRcLCu",
      "execution_count": null,
      "outputs": []
    },
    {
      "cell_type": "code",
      "source": [
        "N_CLUSTERS = 5\n",
        "\n",
        "kmeans = KMeans(n_clusters=N_CLUSTERS, random_state=4, n_init=\"auto\")  # Adjust the number of clusters based on your analysis\n",
        "behavioral_data[\"Behavioral Cluster PCA\"] = kmeans.fit_predict(reduced_behavioral_data)\n",
        "\n",
        "# 1. Distribution of customers across clusters\n",
        "plt.bar([f\"{i}\" for i in range(N_CLUSTERS)], behavioral_data[\"Behavioral Cluster PCA\"].value_counts())\n",
        "plt.xlabel(\"Behavioral Cluster PCA\")\n",
        "plt.ylabel(\"Number of customers\")\n",
        "plt.title(\"Customer Distribution Across Behavioral Clusters\")\n",
        "plt.show()"
      ],
      "metadata": {
        "id": "WlquZd_JcWa_"
      },
      "id": "WlquZd_JcWa_",
      "execution_count": null,
      "outputs": []
    },
    {
      "cell_type": "code",
      "source": [
        "cluster_area_plot(reduced_behavioral_data, kmeans, N_CLUSTERS)"
      ],
      "metadata": {
        "id": "6I6bACsocqdm"
      },
      "id": "6I6bACsocqdm",
      "execution_count": null,
      "outputs": []
    },
    {
      "cell_type": "code",
      "source": [
        "data['Demographic Segement'] = demographic_data[\"Demographic Cluster PCA\"]\n",
        "data['Psychographic Segement'] = psychographic_data[\"Psychographic Cluster PCA\"]\n",
        "data['Technographic Segment'] = technographic_data[\"Technographic Cluster PCA\"]\n",
        "data['Behavioral Segment'] = behavioral_data[\"Behavioral Cluster PCA\"]"
      ],
      "metadata": {
        "id": "82Qq5zN4jg1p"
      },
      "id": "82Qq5zN4jg1p",
      "execution_count": null,
      "outputs": []
    },
    {
      "cell_type": "code",
      "source": [
        "data"
      ],
      "metadata": {
        "id": "32j97_GZkIFi"
      },
      "id": "32j97_GZkIFi",
      "execution_count": null,
      "outputs": []
    }
  ],
  "metadata": {
    "colab": {
      "provenance": []
    },
    "kernelspec": {
      "display_name": "Python 3 (ipykernel)",
      "language": "python",
      "name": "python3"
    },
    "language_info": {
      "codemirror_mode": {
        "name": "ipython",
        "version": 3
      },
      "file_extension": ".py",
      "mimetype": "text/x-python",
      "name": "python",
      "nbconvert_exporter": "python",
      "pygments_lexer": "ipython3",
      "version": "3.9.13"
    }
  },
  "nbformat": 4,
  "nbformat_minor": 5
}